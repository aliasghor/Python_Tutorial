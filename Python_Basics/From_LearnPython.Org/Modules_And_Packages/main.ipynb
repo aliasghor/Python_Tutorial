{
 "cells": [
  {
   "cell_type": "markdown",
   "metadata": {},
   "source": [
    "# Modules and package tutorial.\n",
    "This modules and package tutorials are from [this websiste.](https://www.learnpython.org/) You can click the link to go to the offical doccumentation website. Without further to do let's jump to the tutorial!\n",
    "\n",
    "In **Python** a module is a piece of software that has a spesific functionaltiy. The question is what is a software? A software is a collection of data, instructions, or computer programs that enable a computer to perform a spesific tasks. In short a module is a software that **is used to seperate our file from the main program.**\n",
    "\n",
    "So i really hope that you already understand what a module is. If you forgot you can always open this `main.ipynb` file and if you still confused feel free to go to the offical website doccumentation. Remember practise makes perfect! So don't you every worried that you always make mistakes or forgot😉👍."
   ]
  },
  {
   "cell_type": "markdown",
   "metadata": {},
   "source": [
    "Okeyy thenn! If you already know what a module is let's proceed to how to make a simple software module! To make a module is as easy as like creating a **Python** file that ends with `.py` extension file. And to **import** the module you'll have to use the keyword `import` and followed with a filename. Everytime you import a file and runs the program, a directory/folder called __pycache__ is created. This directory/folder contains the **Python** bytecode cache files that ends with `.pyc` extension filename. Everytime this file exits the file will be used to speed up module imports, so the point is instead we recompile the `.py` file over and over again it would be better for us to use the `.pyc` file."
   ]
  },
  {
   "cell_type": "code",
   "execution_count": null,
   "metadata": {},
   "outputs": [],
   "source": [
    "# Import a moduleW"
   ]
  }
 ],
 "metadata": {
  "kernelspec": {
   "display_name": "Python 3",
   "language": "python",
   "name": "python3"
  },
  "language_info": {
   "codemirror_mode": {
    "name": "ipython",
    "version": 3
   },
   "file_extension": ".py",
   "mimetype": "text/x-python",
   "name": "python",
   "nbconvert_exporter": "python",
   "pygments_lexer": "ipython3",
   "version": "3.12.3"
  }
 },
 "nbformat": 4,
 "nbformat_minor": 2
}
