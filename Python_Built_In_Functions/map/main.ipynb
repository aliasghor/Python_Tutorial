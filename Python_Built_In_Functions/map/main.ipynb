{
 "cells": [
  {
   "cell_type": "markdown",
   "metadata": {},
   "source": [
    "# Python built-in `map()` function.\n",
    "Every explainations of what `map()` function is:\n",
    "\n",
    "- **According to [docs.python.org](https://docs.python.org/3/library/functions.html#map)**: `map()` function returns an iterator that applies function to each item in an iterable, yielding the results.\n",
    "\n",
    "- **According to [w3schools](https://www.w3schools.com/python/ref_func_map.asp)**: `map()` function executes a specified function for each item in an itearble. The item is sent to the function as a parameter.\n",
    "\n",
    "- **According to gemini chat bot**: `map()` function applies a given function for each item of an iterable (list, tuple, string, etc.) and returns an iterator containing the transformed elements.\n",
    "\n",
    "In essence a `map()` function takes a specified/given function as the first argument to transform each item/element in an iterable like we needed. And for the second argument it takes an iterable so that a `map()` function can iterate through every item/element in an iterable. After all those process is done `map()` function returns an iterator object containing the transformed elements."
   ]
  },
  {
   "cell_type": "markdown",
   "metadata": {},
   "source": [
    "## Syntax\n",
    "map(function,iterable)\n",
    "\n",
    "## Parameter values\n",
    "- **Function (required)**: The function to execute for each item in an iterable. \n",
    "\n",
    "- **Iterable (required)**: A sequence, collection or an iterator object."
   ]
  },
  {
   "cell_type": "markdown",
   "metadata": {},
   "source": [
    "### Example usage of `map()` function using `def` function  "
   ]
  },
  {
   "cell_type": "markdown",
   "metadata": {},
   "source": [
    "#### Examine the codes\n",
    "- **Create a functions called count_length and multiply_by2**: These functions will return a different behaviours and outputs, although it has different behaviours and outputs the main usage remains the same which is to **transform each item in an iterable**.\n",
    "\n",
    "- **Create an iterable on the second argument**: Create on the second argument so that the `map()` function can iterate every items in an iterable.\n",
    "\n",
    "- **Function is called with each item**: For each item/value in iterable `map()` function will call `def count_length(iterable)` and `def multiply_b2(iterable)` functions, passing each item/value in an iterable to the iterable parameters (e.g, `def count_length(\"gerry\")`, `def multiply_by2(1)`, etc.).\n",
    "\n",
    "- **Iterator is returned**: Iterator won't create a new iterable to hold every item/value results. Instead it will return an iterator object containing every transformed values of each `def count_length(iterable)` and `def multiply_by2(iterable)` functions."
   ]
  },
  {
   "cell_type": "code",
   "execution_count": 22,
   "metadata": {},
   "outputs": [],
   "source": [
    "def count_length(iterable):\n",
    "    return len(iterable)\n",
    "\n",
    "def multiply_by2(iterable):\n",
    "    return iterable * 2"
   ]
  },
  {
   "cell_type": "code",
   "execution_count": 23,
   "metadata": {},
   "outputs": [
    {
     "name": "stdout",
     "output_type": "stream",
     "text": [
      "[5, 4, 4]\n",
      "[2, 4, 6, 8, 10]\n"
     ]
    }
   ],
   "source": [
    "first_result = map(count_length,[\"Gerry\",\"Mogi\",\"Pace\"])\n",
    "second_result = map(multiply_by2,[1,2,3,4,5])\n",
    "\n",
    "print(list(first_result))\n",
    "print(list(second_result))"
   ]
  },
  {
   "cell_type": "markdown",
   "metadata": {},
   "source": [
    "### Example usage of `map()` function using `lambda` anonymous function."
   ]
  },
  {
   "cell_type": "code",
   "execution_count": 24,
   "metadata": {},
   "outputs": [
    {
     "name": "stdout",
     "output_type": "stream",
     "text": [
      "['GERRY', 'MOGI', 'PACE']\n",
      "[7, 9, 11, 13, 15]\n"
     ]
    }
   ],
   "source": [
    "third_result = map(lambda iterable: iterable.upper(),[\"Gerry\",\"Mogi\",\"Pace\"])\n",
    "fourth_result = map(lambda iterable1, iterable2: iterable1 + iterable2,[1,2,3,4,5],[6,7,8,9,10])\n",
    "\n",
    "print(list(third_result))\n",
    "print(list(fourth_result))"
   ]
  }
 ],
 "metadata": {
  "kernelspec": {
   "display_name": "Python 3",
   "language": "python",
   "name": "python3"
  },
  "language_info": {
   "codemirror_mode": {
    "name": "ipython",
    "version": 3
   },
   "file_extension": ".py",
   "mimetype": "text/x-python",
   "name": "python",
   "nbconvert_exporter": "python",
   "pygments_lexer": "ipython3",
   "version": "3.12.3"
  }
 },
 "nbformat": 4,
 "nbformat_minor": 2
}
