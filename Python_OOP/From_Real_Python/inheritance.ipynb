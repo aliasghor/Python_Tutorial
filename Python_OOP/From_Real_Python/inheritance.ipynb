{
 "cells": [
  {
   "cell_type": "markdown",
   "metadata": {},
   "source": [
    "# Inheritance\n",
    "Inheritance is a concept in Object-Oriented Programming (OOP) in which a class inherits/derives an attributes or methods from the based class (parent-class/superclass) to derived class (child-class/subclass) without needing them to implement it again. In short the purpose of inheritance is to reduce the amount of **code** and **repeated** codes by inheriting an attributes or methods from the based class (parent-class/superclass)."
   ]
  },
  {
   "cell_type": "code",
   "execution_count": null,
   "metadata": {},
   "outputs": [],
   "source": [
    "\n",
    "        "
   ]
  }
 ],
 "metadata": {
  "kernelspec": {
   "display_name": "Python 3",
   "language": "python",
   "name": "python3"
  },
  "language_info": {
   "codemirror_mode": {
    "name": "ipython",
    "version": 3
   },
   "file_extension": ".py",
   "mimetype": "text/x-python",
   "name": "python",
   "nbconvert_exporter": "python",
   "pygments_lexer": "ipython3",
   "version": "3.12.3"
  }
 },
 "nbformat": 4,
 "nbformat_minor": 2
}
