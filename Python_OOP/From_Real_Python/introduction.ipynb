{
 "cells": [
  {
   "cell_type": "markdown",
   "metadata": {},
   "source": [
    "# Python Object-Oriented Programming (OOP) tutorial.\n",
    "This Python Object-Oriented Programming (OOP) tutorial is from [realpython.com](https://realpython.com). [You can click here for the full references of what OOP is](https://realpython.com/python3-object-oriented-programming/)."
   ]
  },
  {
   "cell_type": "markdown",
   "metadata": {},
   "source": [
    "# What is Object-Oriented Programming (OOP)?\n",
    "An object Oriented-Oriented programming is a paradigm in a computer programming based on the concept of objects, which contain attributes/properties or methods/behaviours.\n",
    "\n",
    "## Classes vs Instances \n",
    "\n",
    "### Class: \n",
    "> class is used to create a new type (data-type), it acts like a blueprint to define something. Let's say i want to create a new class called **Cube**, this will create a new type (data-type) called class and a class is used to group/make an attributes/properties and methods/behaviours together.\n",
    "\n",
    "### Instance:\n",
    "> Instance is an object that is built from a class and contains a real data (attributes/methods). Each instances is unique because each instance has it's own values and memory addresses."
   ]
  },
  {
   "cell_type": "markdown",
   "metadata": {},
   "source": [
    "## Understanding each of the codes.\n",
    "> **Note**: Everytime we instancied a class Python automatically passes the instance to the `self` parameter of `__init__()` method. This essentially removes the `self` parameter behind the scence, so we only just need to worry the rest parameters and fill those parameters values on the argument.\n",
    "\n",
    "- **`class Rectangle`**: This is used to create a blueprint, a new type of objects, group every attributes/properties and methods/behaviours together.\n",
    "\n",
    "- **`def __init__(self, length: int, width: int) -> None`**: `init` method is used to initialize a values to each instances through the method parameters (length, width). By conventation `self` refers to an instance; when we create a new instance class, Python automatically passes the instance to the `self` parameter in `init` method so that Python can define new attributes to the objects. `self.length = length` will create an attribute called **length** an assigns the value of the **length** parameter to it; `self.width = width` will create an attribute called **width** and assigns the value of the **width** parameter to it.\n",
    "\n",
    "- **`def area(self)`**: A method for calculating the area of rectangle. `self` refers to an instance and `self` parameter will automatically passes the instance to the `self` parameter in `def area(self)` method so that Python can return the `self.parameter` and `self.length` value to the instance.\n",
    "\n",
    "\n",
    "- **`def perimeter(self)`**: A method for calculating the perimeter of rectangle. `self` referes to an instance and Python automatically passes the instance to the `self` parameter so that Python can return the `2 * (self.length + self.width)` value to the instance.\n",
    "\n",
    "- **`def __str__(self)`: A method to return a **string representation of an object that is easy to read and give some clarity of an object detail attributes**. In essence `def __str__(self)` returns a string representation that is mainly aimmed for the human readability. `self` referes to an instance and Python automaically passes the instance to the `self` parameter so that Python can automatically returns the values and attributes of an object.\n",
    "\n",
    "- **`def __repr__(self)`**: A method to return an **offical string representation of an object**. In essence `def __repr__(self)` returns an **offical string representation of an object** that is mainly aimmed for the programmer readability. `self` referes to an instance and Python automatically passes the instance to the self parameter so that Python can return the **offical string representation of an object**."
   ]
  },
  {
   "cell_type": "code",
   "execution_count": 1,
   "metadata": {},
   "outputs": [],
   "source": [
    "class Rectangle:\n",
    "    def __init__(self, length: int, width: int) -> None:\n",
    "        if not isinstance(length,int):\n",
    "            raise TypeError(f\"Error, expected the length attribute value to be an int! Got {type(length).__name__}\")\n",
    "        self.length = length\n",
    "\n",
    "        if not isinstance(width,int):\n",
    "            raise TypeError(f\"Error, expected the width attribute value to be an int! Got {type(length).__name__}\")\n",
    "        self.width = width\n",
    " \n",
    "\n",
    "    def area(self) -> int:\n",
    "        \"\"\"A method to count the area of rectangle.\"\"\"\n",
    "        return self.length * self.width\n",
    "    \n",
    "    def perimeter(self) -> int:\n",
    "        \"\"\"A method to count the perimeter of rectanle.\"\"\"\n",
    "        return 2 * (self.length + self.width)\n",
    "    \n",
    "    def __str__(self):\n",
    "        return f\"{type(self).__name__} has a length value of = {self.length}. \\n{type(self).__name__} has a width value of = {self.width}.\"\n",
    "    \n",
    "    def __repr__(self):\n",
    "        return f\"{type(self).__name__}({self.length}, {self.width})\"\n",
    "    \n"
   ]
  },
  {
   "cell_type": "markdown",
   "metadata": {},
   "source": [
    "## How do we instantiate a class in Python?\n",
    "Creating a new object from a class is called **instantiating a class**. To create a new object we'll need to type the class name and invoked it. The code below is an example how to **instantiating a class**."
   ]
  },
  {
   "cell_type": "code",
   "execution_count": 2,
   "metadata": {},
   "outputs": [
    {
     "name": "stdout",
     "output_type": "stream",
     "text": [
      "Rectangle has a length value of = 10. \n",
      "Rectangle has a width value of = 5.\n",
      "Rectangle(10, 5)\n",
      "50\n",
      "30\n"
     ]
    }
   ],
   "source": [
    "# Instantiating a class object called rectangle.\n",
    "rectangle = Rectangle(10,5)\n",
    "\n",
    "print(rectangle)\n",
    "print(repr(rectangle))\n",
    "print(rectangle.area())\n",
    "print(rectangle.perimeter())"
   ]
  },
  {
   "cell_type": "markdown",
   "metadata": {},
   "source": [
    "### Note that each instances have different memory addresses\n",
    "The reason why each instances are allocated at different memory address is because it is an **entirely new instance** and is completely unique from the previous instance in terms of **values** and **memory addresses**. Example is shown below."
   ]
  },
  {
   "cell_type": "code",
   "execution_count": 3,
   "metadata": {},
   "outputs": [],
   "source": [
    "class Human:\n",
    "    def __init__(self, name: str, age: int) -> None:\n",
    "        self.name = name\n",
    "        self.age = age\n",
    "\n",
    "    def __str__(self) -> str:\n",
    "        return f\"{type(self).__name__} name = {self.name}, {type(self).__name__} age = {self.age}.\"\n",
    "    \n",
    "    def __repr__(self) -> str:\n",
    "        return f\"{type(self).__name__}('{self.name}', {self.age})\""
   ]
  },
  {
   "cell_type": "code",
   "execution_count": 4,
   "metadata": {},
   "outputs": [],
   "source": [
    "ali = Human(\"Ali\",20)\n",
    "dika = Human(\"Dika\",20)\n",
    "muchsin = Human(\"Muchsin\",20)\n",
    "alden = Human(\"Alden\",20)"
   ]
  },
  {
   "cell_type": "code",
   "execution_count": 5,
   "metadata": {},
   "outputs": [
    {
     "name": "stdout",
     "output_type": "stream",
     "text": [
      "Human name = Ali, Human age = 20.\n",
      "Human('Ali', 20)\n",
      "No, neither Ali and Dika are allocated at the same memory address!\n"
     ]
    }
   ],
   "source": [
    "print(ali)\n",
    "print(repr(ali))\n",
    "\n",
    "if id(ali) == id(dika):\n",
    "    print(\"Yes, both of the instances are allocated at the same memory addres!\")\n",
    "\n",
    "else:\n",
    "    print(f\"No, neither {ali.name} and {dika.name} are allocated at the same memory address!\")\n"
   ]
  },
  {
   "cell_type": "markdown",
   "metadata": {},
   "source": [
    "## Class attributes vs Instance attributes.\n",
    "\n",
    "**Class Attributes**: Class attributes are an attributes that is belong to the itself and they will be shared among all instances.\n",
    "\n",
    "**Instance Attributes**: Instance attributes are an attributes that is unique to each instances in terms of attribute values and memory addresses."
   ]
  },
  {
   "cell_type": "code",
   "execution_count": 6,
   "metadata": {},
   "outputs": [],
   "source": [
    "# Example of Class attributes and Instance attributes.\n",
    "\n",
    "class Employee:\n",
    "    bonus_salary = 0.04\n",
    "    def __init__(self, name: str, salary: int) -> None:\n",
    "        self.name = name\n",
    "        self.salary = salary\n",
    "\n",
    "    def __str__(self) -> str:\n",
    "        return f\"{self.name} has a salary for about = {self.salary:,}\"\n",
    "    \n",
    "    def __repr__(self) -> str:\n",
    "        return f\"{type(self).__name__}('{self.name}', {self.salary:,})\""
   ]
  },
  {
   "cell_type": "code",
   "execution_count": 7,
   "metadata": {},
   "outputs": [],
   "source": [
    "gerry = Employee(\"Gerry\",1000000)\n",
    "mogi = Employee(\"Mogi\",5000000)"
   ]
  },
  {
   "cell_type": "code",
   "execution_count": 8,
   "metadata": {},
   "outputs": [
    {
     "name": "stdout",
     "output_type": "stream",
     "text": [
      "Gerry has a salary for about = 1,000,000\n",
      "Mogi has a salary for about = 5,000,000\n",
      "Gerry has a bonus salary for about = 0.04\n",
      "Mogi has a bonus salary for about = 0.04\n",
      "Gerry after the bonus salary has been raised = 0.06\n",
      "Mogi after the bonus salary has been raised = 0.06\n"
     ]
    }
   ],
   "source": [
    "print(gerry)\n",
    "print(mogi)\n",
    "\n",
    "print(f\"{gerry.name} has a bonus salary for about = {gerry.bonus_salary}\")\n",
    "print(f\"{mogi.name} has a bonus salary for about = {mogi.bonus_salary}\")\n",
    "\n",
    "Employee.bonus_salary = 0.06\n",
    "\n",
    "print(f\"{gerry.name} after the bonus salary has been raised = {gerry.bonus_salary}\")\n",
    "print(f\"{mogi.name} after the bonus salary has been raised = {mogi.bonus_salary}\")"
   ]
  }
 ],
 "metadata": {
  "kernelspec": {
   "display_name": "Python 3",
   "language": "python",
   "name": "python3"
  },
  "language_info": {
   "codemirror_mode": {
    "name": "ipython",
    "version": 3
   },
   "file_extension": ".py",
   "mimetype": "text/x-python",
   "name": "python",
   "nbconvert_exporter": "python",
   "pygments_lexer": "ipython3",
   "version": "3.12.3"
  }
 },
 "nbformat": 4,
 "nbformat_minor": 2
}
