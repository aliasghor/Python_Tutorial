{
 "cells": [
  {
   "cell_type": "markdown",
   "metadata": {},
   "source": [
    "# This `.ipynb` file is used to review (sharpen) my Python Object-Oriented (also known and abbreviated as OOP) Programming knowledge.\n",
    "Here's the link doccumentation website: [click here](https://realpython.com/python3-object-oriented-programming)."
   ]
  },
  {
   "cell_type": "markdown",
   "metadata": {},
   "source": [
    "## What is Object-Oriented Object Programming (OOP)?\n",
    "Object oriented programming is a programming paradigm that provides a means to structuring our program so that properties (attributes) and behaviours (methods) are bundled into individual object."
   ]
  },
  {
   "cell_type": "markdown",
   "metadata": {},
   "source": []
  }
 ],
 "metadata": {
  "language_info": {
   "name": "python"
  }
 },
 "nbformat": 4,
 "nbformat_minor": 2
}
