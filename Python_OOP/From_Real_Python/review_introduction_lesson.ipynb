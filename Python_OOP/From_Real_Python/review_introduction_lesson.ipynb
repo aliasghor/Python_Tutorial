{
 "cells": [
  {
   "cell_type": "markdown",
   "metadata": {},
   "source": [
    "# This `.ipynb` file is used to review (sharpen) my Python Object-Oriented (also known and abbreviated as OOP) Programming knowledge.\n",
    "Here's the link doccumentation website: [click here](https://realpython.com/python3-object-oriented-programming)."
   ]
  },
  {
   "cell_type": "markdown",
   "metadata": {},
   "source": [
    "## What is Object-Oriented Object Programming (OOP)?\n",
    "Object-Oriented Programming (OOP) is a programming paradigm that provides a means of structuring our program so that properties (attributes) and behaviours (methods) are bundled into individual objects."
   ]
  },
  {
   "cell_type": "markdown",
   "metadata": {},
   "source": [
    "## Class Vs Instance:\n",
    "\n",
    "> **Class**: A class is a blueprint for how to define something; a class also create a new type of objects too! Let's say i want to create a class called Human, Human can have: name, age, hobby, etc. The minute we create a class called Human we've just made a blueprint called Human! The class Human specifies that name, age, hobby must be defined to each instances.\n",
    "\n",
    "> **Instance**: An instance is an object that is built from a class and contains a real data (attribute); each instance are unique in terms of memory address and values. An instance is no longer a blueprint anymore, because each instances have their own define attributes and methods from the class (blueprint). Whereas a class only specify that a certain attributes must be fulfilled, but it doesn't contain an attributes of any spesific instance."
   ]
  },
  {
   "cell_type": "markdown",
   "metadata": {},
   "source": [
    "## Class Vs Instance example with codes, and an explainations:\n",
    "- `def __init__(self, name: str, age: int, hobby: str) -> None`: `__init__()` magic method (dunder method) is used to declare which attributes each instance of the class should have. To put it simply `__init__()` magic method is used to assign an attribute value of each instances **implicitly** through the `self` parameter. `self` parameter is special parameter (although it is not necessary to use `self`, but it would be better if we followed the conventation.), because everytime we instantiate a class (create an object) Python will automatically passes the instance to the `self` parameter, so that Python can create and assign each attributes value **implicitly**.\n",
    "\n",
    "- `def greet(self, other_person)`: This is what it is called an instance method, an instance method is used to make a behavior of what the instance can do. In this case this instance method has a behaviour to greet another instance object's name. `self` is a mandatory parameter when it comes to instance method, because we want to have an interaction between objects. The `self` parameter refers to an actual instance, whereas other person refers to another instance.\n",
    "\n",
    "- `def __str__(self)`: This is a magic method that is used to return an informal string representation of an object (it is primarily aimed for the user, and to give some claritines of an object string). `self` parameter is mandatory because `__str__` magic method is an instance method. Therefore to return a string representation of an object, we'll need to create the `self` parameter variable; Python automatically passes the instance to the `self` parameter variable.\n",
    "\n",
    "- `def __repr__(self)`: This is a magic method that is used to return an offical string representation of an object (it is primarily aimed for the programmer). `self` parameter is mandatory because `__str__` magic method is an instance method. Therefore to return a string representation of an object, we'll need to create the `self` parameter variable; Python automatically passes the instance to the `self` parameter variable."
   ]
  },
  {
   "cell_type": "code",
   "execution_count": 5,
   "metadata": {},
   "outputs": [],
   "source": [
    "class Human:\n",
    "    def __init__(self, name: str, age: int, hobby: str) -> None:\n",
    "        if not isinstance(name,str):\n",
    "            raise TypeError(f\"Error, expected the first argument attribute value to be a str! Got {type(name).__name__}\")\n",
    "        self.name = name\n",
    "\n",
    "        if not isinstance(age,int):\n",
    "            raise TypeError(f\"Error, expected the second argument attribute value to be an int! Got {type(age).__name__}\")\n",
    "        self.age = age\n",
    "\n",
    "        if not isinstance(hobby,str):\n",
    "            raise TypeError(f\"Error, expected the first argument attribute value to be a str! Got {type(hobby).__name__}\")\n",
    "        self.hobby = hobby\n",
    "\n",
    "    def greet(self, other_person):\n",
    "        \"\"\"A method to greet another object's name\"\"\"\n",
    "        return f\"{self.name} greets {other_person.name}.\"\n",
    "\n",
    "    def __str__(self) -> str:\n",
    "        return f\"{self.name} is {self.age} years old, and has a hobby doing {self.hobby}.\"\n",
    "    \n",
    "    def __repr__(self) -> str:\n",
    "        return f\"{type(self).__name__}('{self.name}', {self.age}, '{self.hobby}')\""
   ]
  },
  {
   "cell_type": "code",
   "execution_count": 9,
   "metadata": {},
   "outputs": [
    {
     "name": "stdout",
     "output_type": "stream",
     "text": [
      "Ali is 21 years old, and has a hobby doing coding.\n",
      "Human('Ali', 21, 'coding')\n",
      "Upi is 56 years old, and has a hobby doing selling some stuffs such as: coffe, foods, drinks, etc., at the airport.\n",
      "Human('Upi', 56, 'selling some stuffs such as: coffe, foods, drinks, etc., at the airport')\n"
     ]
    },
    {
     "data": {
      "text/plain": [
       "'Ali greets Upi.'"
      ]
     },
     "execution_count": 9,
     "metadata": {},
     "output_type": "execute_result"
    }
   ],
   "source": [
    "ali = Human(\"Ali\",21,\"coding\")\n",
    "mom = Human(\"Upi\",56,\"selling some stuffs such as: coffe, foods, drinks, etc., at the airport\")\n",
    "\n",
    "\n",
    "print(f\"{ali!s}\")\n",
    "print(f\"{ali!r}\")\n",
    "\n",
    "print(f\"{mom!s}\")\n",
    "print(f\"{mom!r}\")\n",
    "\n",
    "ali.greet(mom)"
   ]
  },
  {
   "cell_type": "code",
   "execution_count": 10,
   "metadata": {},
   "outputs": [
    {
     "name": "stdout",
     "output_type": "stream",
     "text": [
      "No! Neither Ali and Upi are allocated in the same memory addresses.\n"
     ]
    }
   ],
   "source": [
    "# Check if both instance are allocated in the same memory\n",
    "\n",
    "if id(ali) == id(mom):\n",
    "    print(\"Yes! Both instances are allocated in the same memory address.\")\n",
    "\n",
    "else:\n",
    "    print(f\"No! Neither {ali.name} and {mom.name} are allocated in the same memory address.\")"
   ]
  }
 ],
 "metadata": {
  "kernelspec": {
   "display_name": "Python 3",
   "language": "python",
   "name": "python3"
  },
  "language_info": {
   "codemirror_mode": {
    "name": "ipython",
    "version": 3
   },
   "file_extension": ".py",
   "mimetype": "text/x-python",
   "name": "python",
   "nbconvert_exporter": "python",
   "pygments_lexer": "ipython3",
   "version": "3.12.3"
  }
 },
 "nbformat": 4,
 "nbformat_minor": 2
}
