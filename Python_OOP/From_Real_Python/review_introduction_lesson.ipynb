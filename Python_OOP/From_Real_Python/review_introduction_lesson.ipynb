{
 "cells": [
  {
   "cell_type": "markdown",
   "metadata": {},
   "source": [
    "# Review previous Python Object-Oriented Programming (OOP) introdcution file.\n",
    "This introduction file is used to review my previous `introduction.ipynb` file; to sharpen my knowledge of what Object-Oriented Programming (OOP) is. Here's the link to the website documentation: [click here](https://realpython.com/python3-object-oriented-programming/)."
   ]
  },
  {
   "cell_type": "markdown",
   "metadata": {},
   "source": [
    "## What is Object-Oriented Programming (OOP)?\n",
    "according to: [realpython.com](https://realpython.com/python3-object-oriented-programming/#what-is-object-oriented-programming-in-python), Object-Oriented Programming (also known and abbreviated as OOP) is programming paradigm that provide a means to structuring programs so that properties (attributes) and behaviours (methods) are bundled into individual objects. Or in my own opinion an Object-Oriented Programming (OOP) is a programming paradigm where we group every attributes and methods together into an objects."
   ]
  },
  {
   "cell_type": "markdown",
   "metadata": {},
   "source": [
    "## Class vs Instance\n",
    "> **Class**: Class acts like a blueprint for how we want to define something. For example: a Human can be assumed as a class and each human has their own names, age, hobby, etc.\n",
    "\n",
    "> **Instance**: Instance is an object that is built from a class and contains a real representation data (attribute) of the class it self. An instance is neither a class nor blueprint anymore, because an instance contains a real data from the class. Whereas a class doesn't contain any spesific data's (attributes) to each objects; it actually emphasizes that a certain data (attribute) must be filled.\n",
    "\n",
    "Below is an example between **Class** and **Instance**:"
   ]
  },
  {
   "cell_type": "markdown",
   "metadata": {},
   "source": [
    "### Examine the code meanings:\n",
    "- `def__init__(self, name: str, age: int, *, hobby=[])`: Magic method (dunder) `__init__()` method is used to initalize an instance attributes **implicitly** through the `self` variable parameter. `self` parameter variable points (refers) to particular instance. Therefore, Python can automatically passes and assigns each instance attributes through the `self` parameter.  "
   ]
  },
  {
   "cell_type": "code",
   "execution_count": null,
   "metadata": {},
   "outputs": [],
   "source": [
    "class Human:\n",
    "    def __init__(self, name: str, age: int, *, hobby=[]) -> None:\n",
    "        self.name = name\n",
    "        self.age = age\n",
    "        self.hobby = hobby"
   ]
  }
 ],
 "metadata": {
  "language_info": {
   "name": "python"
  }
 },
 "nbformat": 4,
 "nbformat_minor": 2
}
