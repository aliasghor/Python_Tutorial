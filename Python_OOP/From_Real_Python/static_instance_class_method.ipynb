{
 "cells": [
  {
   "cell_type": "markdown",
   "metadata": {},
   "source": [
    "# Difference between instance methods, static methods, class methods and how to use them.\n",
    "\n",
    "- **Instance methods**: Instance methods are methods **that is belong/attached to the object**. Instance methods always takes the first parameter as `self` which points to an instance when the method is called. Through the `self` parameter instance methods can freely access attributes, methods, initalize an attribute values, change an attribute values. Not only that, an instance can also access a class attribute.\n",
    "\n",
    "- **Class methods**: Class methods are methods **that is belong/attached to the class**. Class methods always takes the first parameter as `cls` that points to a class and not the object instance when the method is called. Therefore it cannot modify nor access instance attributes, methods, but it can modify the class attribute.\n",
    "\n",
    "- **Static methods**: Static methods are methods *That is belong/attached to the class*. Unlike class methods, static methods takes neither `self` (the object instance) or `cls` (the class) parameter. Therefore a static methods can neither modify nor access object/class attributes and methods. Static methods behaves the same like reguler functions, but only belongs to the class it self; It acts like a helper functions."
   ]
  },
  {
   "cell_type": "markdown",
   "metadata": {},
   "source": [
    "## A simple example of Instance methods, Static methods, Class methods."
   ]
  },
  {
   "cell_type": "code",
   "execution_count": 4,
   "metadata": {},
   "outputs": [],
   "source": [
    "class MyClass:\n",
    "    def instance_method(self):\n",
    "        return f\"Instance method is being called {self}\"\n",
    "    \n",
    "    @classmethod\n",
    "    def class_method(cls):\n",
    "        return f\"Class method is being called {cls}\"\n",
    "    \n",
    "    @staticmethod\n",
    "    def static_method():\n",
    "        return f\"Static method is being called\""
   ]
  },
  {
   "cell_type": "markdown",
   "metadata": {},
   "source": [
    "### Instance method example.\n",
    "As you can see, this confirmed that `def instance_method(self)` has access to the object instance `<__main__.MyClass object at 0x00000143BBE49460>` via the self argument. When instance method is called `def instance_method(self)` Python automatically passes the instance to the `self` parameter so that Python can return the memory address of an object instance."
   ]
  },
  {
   "cell_type": "code",
   "execution_count": 8,
   "metadata": {},
   "outputs": [
    {
     "name": "stdout",
     "output_type": "stream",
     "text": [
      "Instance method is being called <__main__.MyClass object at 0x00000143BA952690>\n",
      "Instance method is being called <__main__.MyClass object at 0x00000143BA952690>\n"
     ]
    }
   ],
   "source": [
    "obj = MyClass()\n",
    "\n",
    "# The most common way to call instance method\n",
    "print(obj.instance_method())\n",
    "\n",
    "# The manual way to call instance method\n",
    "print(MyClass.instance_method(obj))\n",
    "\n",
    "# This will result an error because missing 1 required positional argument: `self`.\n",
    "# print(MyClass.instance_method())"
   ]
  },
  {
   "cell_type": "markdown",
   "metadata": {},
   "source": [
    "### Class method example\n",
    "As you can see, this confirmed that a class method only have access to the class `<class '__main__.MyClass'>` object it self **not** the object instance. When class method is called Python automatically passes the class to the `cls` parameter."
   ]
  },
  {
   "cell_type": "code",
   "execution_count": 10,
   "metadata": {},
   "outputs": [
    {
     "name": "stdout",
     "output_type": "stream",
     "text": [
      "Class method is being called <class '__main__.MyClass'>\n",
      "Class method is being called <class '__main__.MyClass'>\n"
     ]
    }
   ],
   "source": [
    "# The correct way to call a class method.\n",
    "print(MyClass.class_method())\n",
    "\n",
    "# Will give the same result, but the way that the class method is called is invalid!\n",
    "print(obj.class_method())"
   ]
  },
  {
   "cell_type": "markdown",
   "metadata": {},
   "source": [
    "### Static method example"
   ]
  },
  {
   "cell_type": "code",
   "execution_count": 15,
   "metadata": {},
   "outputs": [
    {
     "name": "stdout",
     "output_type": "stream",
     "text": [
      "Static method is being called\n"
     ]
    }
   ],
   "source": [
    "print(MyClass.static_method())"
   ]
  },
  {
   "cell_type": "markdown",
   "metadata": {},
   "source": [
    "## A more complex usage of static, instance, class methods."
   ]
  },
  {
   "cell_type": "code",
   "execution_count": 27,
   "metadata": {},
   "outputs": [],
   "source": [
    "class Person:\n",
    "    def __init__(self, name: str, age: int, born_year: int) -> None:\n",
    "        self.name = name\n",
    "        self.age = age\n",
    "        self.born_year = born_year\n",
    "\n",
    "    def greet(self, object):\n",
    "        return f\"{self.name} greets {object.name}\"\n",
    "\n",
    "    @classmethod\n",
    "    def from_string(cls, object) -> str:\n",
    "        name, age, born_year = object.split(\"/\")\n",
    "        return cls(name,age,born_year)\n",
    "    \n",
    "    @staticmethod\n",
    "    def is_adult(age) -> bool:\n",
    "        if age > 18:\n",
    "            return True\n",
    "        return False\n",
    "    \n",
    "    def __str__(self) -> str:\n",
    "        return f\"{self.name} is {self.age} years old and {self.name} is born in = {self.born_year}.\"\n",
    "    \n",
    "    def __repr__(self) -> str:\n",
    "        return f\"{type(self).__name__}('{self.name}', {self.age}, {self.born_year})\""
   ]
  },
  {
   "cell_type": "code",
   "execution_count": 28,
   "metadata": {},
   "outputs": [],
   "source": [
    "name1 = \"Ali/21/2003\"\n",
    "name2 = \"Hussein/23/2001\"\n",
    "\n",
    "ali = Person.from_string(name1)\n",
    "hussein = Person.from_string(name2)"
   ]
  },
  {
   "cell_type": "code",
   "execution_count": 29,
   "metadata": {},
   "outputs": [
    {
     "name": "stdout",
     "output_type": "stream",
     "text": [
      "Ali is 21 years old and Ali is born in = 2003.\n",
      "Hussein is 23 years old and Hussein is born in = 2001.\n",
      "Person('Ali', 21, 2003)\n",
      "Person('Hussein', 23, 2001)\n"
     ]
    }
   ],
   "source": [
    "print(ali)\n",
    "print(hussein)\n",
    "print(repr(ali))\n",
    "print(repr(hussein))"
   ]
  },
  {
   "cell_type": "code",
   "execution_count": 30,
   "metadata": {},
   "outputs": [
    {
     "data": {
      "text/plain": [
       "'Ali greets Hussein'"
      ]
     },
     "execution_count": 30,
     "metadata": {},
     "output_type": "execute_result"
    }
   ],
   "source": [
    "ali.greet(hussein)"
   ]
  }
 ],
 "metadata": {
  "kernelspec": {
   "display_name": "Python 3",
   "language": "python",
   "name": "python3"
  },
  "language_info": {
   "codemirror_mode": {
    "name": "ipython",
    "version": 3
   },
   "file_extension": ".py",
   "mimetype": "text/x-python",
   "name": "python",
   "nbconvert_exporter": "python",
   "pygments_lexer": "ipython3",
   "version": "3.12.3"
  }
 },
 "nbformat": 4,
 "nbformat_minor": 2
}
