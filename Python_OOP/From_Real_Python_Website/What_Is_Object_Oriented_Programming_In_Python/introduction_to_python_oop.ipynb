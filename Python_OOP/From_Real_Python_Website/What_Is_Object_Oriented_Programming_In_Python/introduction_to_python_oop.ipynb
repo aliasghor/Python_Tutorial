{
 "cells": [
  {
   "cell_type": "markdown",
   "id": "f8ab1294-6c9e-4ae3-90ab-e8ac42019ca9",
   "metadata": {},
   "source": [
    "# An introduction to Python OOP (Object Oriented Programming)\n",
    "This introduction Python OOP is from Real Python website, real Python is a website Python community. [You can click here for the full references](https://realpython.com/python3-object-oriented-programming/)"
   ]
  },
  {
   "cell_type": "markdown",
   "id": "c06c9b59-b245-4f3e-982d-72a280ee03d5",
   "metadata": {},
   "source": [
    "An Object-Oriented Programming or also known and abbreviated as OOP, is a Programming paradigm based on the concept of objects which can contain attributes and methods. In short OOP is where we group all of our data and functions together under one name and it is the class name. A class is like a blueprint it is used to create a new type of object/instance and an object/instance is the variable name from that class name."
   ]
  },
  {
   "cell_type": "code",
   "execution_count": 6,
   "id": "2b4379c1-4f0b-4f11-b51c-fe02cde24df5",
   "metadata": {},
   "outputs": [
    {
     "name": "stdout",
     "output_type": "stream",
     "text": [
      "Person's name: Ali\n",
      "Person's age: 20\n",
      "Hamster's name: Gerry\n",
      "Hamster's age: Has already passed away\n",
      "No, neither of the objects are stored in the same memory address\n"
     ]
    }
   ],
   "source": [
    "# A simple example of class and instance/object:\n",
    "\n",
    "# Creating a new class name called Person.\n",
    "class Person:\n",
    "    pass\n",
    "\n",
    "\"\"\"\n",
    "    Creating new object from a class is called\n",
    "    instantiating a class. Note that every instances/objects are unique\n",
    "    that means every instances/objects are stored in different memory addresses,\n",
    "    and each instances/objects has their own unique attribute values.\n",
    "\"\"\"\n",
    "\n",
    "# Instantiating an instance/object called ali\n",
    "ali = Person()\n",
    "\n",
    "# Set the attributes value of ali's instance/object.\n",
    "ali.name = \"Ali\"\n",
    "ali.age = 20\n",
    "\n",
    "# Printed out the attributes value of ali's instance/object.\n",
    "print(f\"Person's name: {ali.name}\")\n",
    "print(f\"Person's age: {ali.age}\")\n",
    "\n",
    "# Instantiating an instance/object called gerry\n",
    "gerry = Person()\n",
    "\n",
    "gerry.name = \"Gerry\"\n",
    "gerry.age = \"Has already passed away\"\n",
    "\n",
    "print(f\"Hamster's name: {gerry.name}\")\n",
    "print(f\"Hamster's age: {gerry.age}\")\n",
    "\n",
    "# Check if the objects are stored in the same memory address\n",
    "if id(ali) is id(gerry):\n",
    "    print(\"Yes, both objects are stored in the same memory address\")\n",
    "    \n",
    "else:\n",
    "    print(\"No, neither of the objects are stored in the same memory address\")"
   ]
  },
  {
   "cell_type": "markdown",
   "id": "b7b39a59-ef1d-48ea-8a0f-d4d2e5a35c11",
   "metadata": {},
   "source": [
    "## Creating a class with a constructor method/dunder init method"
   ]
  },
  {
   "cell_type": "code",
   "execution_count": null,
   "id": "251e0a83-59b0-4c78-beb0-8622f4a753a8",
   "metadata": {},
   "outputs": [],
   "source": []
  }
 ],
 "metadata": {
  "kernelspec": {
   "display_name": "Python 3 (ipykernel)",
   "language": "python",
   "name": "python3"
  },
  "language_info": {
   "codemirror_mode": {
    "name": "ipython",
    "version": 3
   },
   "file_extension": ".py",
   "mimetype": "text/x-python",
   "name": "python",
   "nbconvert_exporter": "python",
   "pygments_lexer": "ipython3",
   "version": "3.12.3"
  }
 },
 "nbformat": 4,
 "nbformat_minor": 5
}
