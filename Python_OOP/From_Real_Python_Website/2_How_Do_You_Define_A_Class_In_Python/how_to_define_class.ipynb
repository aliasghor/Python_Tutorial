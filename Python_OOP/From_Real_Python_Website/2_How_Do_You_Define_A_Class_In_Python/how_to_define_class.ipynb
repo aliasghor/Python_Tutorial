{
 "cells": [
  {
   "cell_type": "markdown",
   "id": "01e15ff8-9084-4f0d-9b0f-ca7482a19871",
   "metadata": {},
   "source": [
    "# How to define a class in Python? Especially with a constructor/dunder (double underscore)? And what is a constructor/dunder (double underscore)?"
   ]
  },
  {
   "cell_type": "markdown",
   "id": "27a0076a-28bf-4e80-8c90-bddb23ed3c5c",
   "metadata": {},
   "source": [
    "To simplify the amount of previous code it would be better for us to have a constructor. A constructor is a method that will be called first when we instantiating a class, in Python there is a called dunder (double under score) method that will be called first when we instantiating an object and that dunder method is called __init__() method. An __init__() method is used to initialize instance/object values and the first parameter variable name will be always called self. When we instantiating a class Python automatically passes the instance/object to the self parameter to define a new attributes to each instances/objects. So in essence self parameter variable is a must, without it we cannot instancied a class nor define a new attributes to each instances/objects."
   ]
  },
  {
   "cell_type": "code",
   "execution_count": 1,
   "id": "c444ff55-b522-4ab4-a1c7-25e23549c023",
   "metadata": {},
   "outputs": [],
   "source": [
    "\"\"\"\n",
    "    Within the __init__() method there are 2 attributes.\n",
    "    And those attributes are:\n",
    "    # Create an attribute called name and assign it to parameter name\n",
    "    -self.name = name\n",
    "\n",
    "    # Create an attribute called color and assign it to parameter color\n",
    "    -self.color = color.\n",
    "\n",
    "    In addition every attributes created inside the __init__() method are called\n",
    "    instance attributes/instance variables. Each instance attributes/instance variables\n",
    "    values are spesific to particular instances/objects. On the other hand class attributes\n",
    "    are an attributes that have the same value to each instances/objects.\n",
    "\"\"\"\n",
    "\n",
    "class Hamster:\n",
    "    # Creating a class attribute that will have the same value to each instances/objects.\n",
    "    species = \"Syrian hamster\"\n",
    "\n",
    "    \n",
    "    def __init__(self, name: str, color: str):\n",
    "        # Creating an instance attributes and assign the attributes to each parameters\n",
    "        self.name = name\n",
    "        self.color = color"
   ]
  }
 ],
 "metadata": {
  "kernelspec": {
   "display_name": "Python 3 (ipykernel)",
   "language": "python",
   "name": "python3"
  },
  "language_info": {
   "codemirror_mode": {
    "name": "ipython",
    "version": 3
   },
   "file_extension": ".py",
   "mimetype": "text/x-python",
   "name": "python",
   "nbconvert_exporter": "python",
   "pygments_lexer": "ipython3",
   "version": "3.12.3"
  }
 },
 "nbformat": 4,
 "nbformat_minor": 5
}
